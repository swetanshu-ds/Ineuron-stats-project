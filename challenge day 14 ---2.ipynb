{
 "cells": [
  {
   "cell_type": "markdown",
   "id": "7302552b",
   "metadata": {},
   "source": [
    "## Import Libraries"
   ]
  },
  {
   "cell_type": "code",
   "execution_count": 122,
   "id": "4fb89c9b",
   "metadata": {},
   "outputs": [],
   "source": [
    "import pandas as pd\n",
    "import numpy as np\n",
    "from sklearn import linear_model\n",
    "import matplotlib.pyplot as plt"
   ]
  },
  {
   "cell_type": "markdown",
   "id": "14ea615d",
   "metadata": {},
   "source": [
    "##  Import Dataset"
   ]
  },
  {
   "cell_type": "code",
   "execution_count": 123,
   "id": "736e8460",
   "metadata": {},
   "outputs": [],
   "source": [
    "df=pd.read_csv('challenge.csv')"
   ]
  },
  {
   "cell_type": "code",
   "execution_count": 124,
   "id": "06c73b36",
   "metadata": {},
   "outputs": [
    {
     "data": {
      "text/html": [
       "<div>\n",
       "<style scoped>\n",
       "    .dataframe tbody tr th:only-of-type {\n",
       "        vertical-align: middle;\n",
       "    }\n",
       "\n",
       "    .dataframe tbody tr th {\n",
       "        vertical-align: top;\n",
       "    }\n",
       "\n",
       "    .dataframe thead th {\n",
       "        text-align: right;\n",
       "    }\n",
       "</style>\n",
       "<table border=\"1\" class=\"dataframe\">\n",
       "  <thead>\n",
       "    <tr style=\"text-align: right;\">\n",
       "      <th></th>\n",
       "      <th>X1</th>\n",
       "      <th>X2</th>\n",
       "      <th>Y</th>\n",
       "    </tr>\n",
       "  </thead>\n",
       "  <tbody>\n",
       "    <tr>\n",
       "      <th>0</th>\n",
       "      <td>22</td>\n",
       "      <td>15</td>\n",
       "      <td>55</td>\n",
       "    </tr>\n",
       "    <tr>\n",
       "      <th>1</th>\n",
       "      <td>22</td>\n",
       "      <td>14</td>\n",
       "      <td>56</td>\n",
       "    </tr>\n",
       "    <tr>\n",
       "      <th>2</th>\n",
       "      <td>25</td>\n",
       "      <td>18</td>\n",
       "      <td>55</td>\n",
       "    </tr>\n",
       "    <tr>\n",
       "      <th>3</th>\n",
       "      <td>26</td>\n",
       "      <td>13</td>\n",
       "      <td>59</td>\n",
       "    </tr>\n",
       "    <tr>\n",
       "      <th>4</th>\n",
       "      <td>24</td>\n",
       "      <td>12</td>\n",
       "      <td>66</td>\n",
       "    </tr>\n",
       "    <tr>\n",
       "      <th>5</th>\n",
       "      <td>28</td>\n",
       "      <td>11</td>\n",
       "      <td>65</td>\n",
       "    </tr>\n",
       "    <tr>\n",
       "      <th>6</th>\n",
       "      <td>29</td>\n",
       "      <td>11</td>\n",
       "      <td>69</td>\n",
       "    </tr>\n",
       "    <tr>\n",
       "      <th>7</th>\n",
       "      <td>27</td>\n",
       "      <td>10</td>\n",
       "      <td>70</td>\n",
       "    </tr>\n",
       "    <tr>\n",
       "      <th>8</th>\n",
       "      <td>24</td>\n",
       "      <td>5</td>\n",
       "      <td>75</td>\n",
       "    </tr>\n",
       "    <tr>\n",
       "      <th>9</th>\n",
       "      <td>33</td>\n",
       "      <td>9</td>\n",
       "      <td>75</td>\n",
       "    </tr>\n",
       "    <tr>\n",
       "      <th>10</th>\n",
       "      <td>39</td>\n",
       "      <td>7</td>\n",
       "      <td>78</td>\n",
       "    </tr>\n",
       "    <tr>\n",
       "      <th>11</th>\n",
       "      <td>42</td>\n",
       "      <td>3</td>\n",
       "      <td>79</td>\n",
       "    </tr>\n",
       "  </tbody>\n",
       "</table>\n",
       "</div>"
      ],
      "text/plain": [
       "    X1  X2   Y\n",
       "0   22  15  55\n",
       "1   22  14  56\n",
       "2   25  18  55\n",
       "3   26  13  59\n",
       "4   24  12  66\n",
       "5   28  11  65\n",
       "6   29  11  69\n",
       "7   27  10  70\n",
       "8   24   5  75\n",
       "9   33   9  75\n",
       "10  39   7  78\n",
       "11  42   3  79"
      ]
     },
     "execution_count": 124,
     "metadata": {},
     "output_type": "execute_result"
    }
   ],
   "source": [
    "df"
   ]
  },
  {
   "cell_type": "code",
   "execution_count": 125,
   "id": "d01d0014",
   "metadata": {},
   "outputs": [],
   "source": [
    "X=df[['X1','X2']]\n",
    "Y=df[['Y']]"
   ]
  },
  {
   "cell_type": "markdown",
   "id": "9fb016f9",
   "metadata": {},
   "source": [
    "###  Prediction of the result "
   ]
  },
  {
   "cell_type": "code",
   "execution_count": 126,
   "id": "b57355b4",
   "metadata": {},
   "outputs": [],
   "source": [
    "R=linear_model.LinearRegression()"
   ]
  },
  {
   "cell_type": "code",
   "execution_count": 127,
   "id": "d5ee562a",
   "metadata": {},
   "outputs": [
    {
     "data": {
      "text/plain": [
       "LinearRegression()"
      ]
     },
     "execution_count": 127,
     "metadata": {},
     "output_type": "execute_result"
    }
   ],
   "source": [
    "R.fit(df[['X1','X2']],df.Y)"
   ]
  },
  {
   "cell_type": "code",
   "execution_count": 128,
   "id": "7e00c469",
   "metadata": {},
   "outputs": [
    {
     "data": {
      "text/plain": [
       "array([ 0.33138486, -1.61056402])"
      ]
     },
     "execution_count": 128,
     "metadata": {},
     "output_type": "execute_result"
    }
   ],
   "source": [
    "R.coef_                                      #####   these are the coefficiencts of the independent variables"
   ]
  },
  {
   "cell_type": "code",
   "execution_count": 129,
   "id": "6052a0a0",
   "metadata": {},
   "outputs": [
    {
     "data": {
      "text/plain": [
       "74.5958297228575"
      ]
     },
     "execution_count": 129,
     "metadata": {},
     "output_type": "execute_result"
    }
   ],
   "source": [
    "R.intercept_                                ####  this is the intercept of the linear regression line"
   ]
  },
  {
   "cell_type": "code",
   "execution_count": 176,
   "id": "03b6c84a",
   "metadata": {},
   "outputs": [
    {
     "data": {
      "text/plain": [
       "array([83.6823018])"
      ]
     },
     "execution_count": 176,
     "metadata": {},
     "output_type": "execute_result"
    }
   ],
   "source": [
    "R.predict([[42,3]])                         ####  this is the predicted value at X1=42 and X2=3 \n",
    "#### and we can see that the predicted value comes close to the original value"
   ]
  },
  {
   "cell_type": "markdown",
   "id": "7430cefe",
   "metadata": {},
   "source": [
    "#### Verification"
   ]
  },
  {
   "cell_type": "code",
   "execution_count": 189,
   "id": "6b2fcf92",
   "metadata": {},
   "outputs": [
    {
     "data": {
      "text/plain": [
       "74.496246262857"
      ]
     },
     "execution_count": 189,
     "metadata": {},
     "output_type": "execute_result"
    }
   ],
   "source": [
    "24*0.33138486+5*-1.61056402 +74.595829722857                         "
   ]
  },
  {
   "cell_type": "markdown",
   "id": "6ec45f3d",
   "metadata": {},
   "source": [
    "######  We can see the verification value and the predicted value  are almost equal ,thus our model is correct."
   ]
  },
  {
   "cell_type": "code",
   "execution_count": 178,
   "id": "119ba32c",
   "metadata": {},
   "outputs": [],
   "source": [
    "####  Saving values of X1 ,X2 and Y in some new variables"
   ]
  },
  {
   "cell_type": "code",
   "execution_count": 180,
   "id": "3f149652",
   "metadata": {},
   "outputs": [],
   "source": [
    "Xw=df['X1'].values\n",
    "Wx=df['X2'].values\n",
    "Wy=df['Y'].values"
   ]
  },
  {
   "cell_type": "code",
   "execution_count": 181,
   "id": "2122faa8",
   "metadata": {},
   "outputs": [],
   "source": [
    "#####  Store the values of all the  predicted values in a new list "
   ]
  },
  {
   "cell_type": "code",
   "execution_count": 182,
   "id": "f12bf33e",
   "metadata": {},
   "outputs": [],
   "source": [
    "l=[]\n",
    "for i in range(len(Xw)):\n",
    "    u12=R.predict([[Xw[i],Wx[i]]])\n",
    "    u12=list(u12)\n",
    "    l.append(R.predict([[Xw[i],Wx[i]]]))"
   ]
  },
  {
   "cell_type": "code",
   "execution_count": 183,
   "id": "5efd5758",
   "metadata": {},
   "outputs": [
    {
     "data": {
      "text/plain": [
       "[array([57.72783641]),\n",
       " array([59.33840043]),\n",
       " array([53.89029895]),\n",
       " array([62.27450389]),\n",
       " array([63.22229818]),\n",
       " array([66.15840164]),\n",
       " array([66.4897865]),\n",
       " array([67.43758079]),\n",
       " array([74.49624629]),\n",
       " array([71.03645397]),\n",
       " array([76.24589116]),\n",
       " array([83.6823018])]"
      ]
     },
     "execution_count": 183,
     "metadata": {},
     "output_type": "execute_result"
    }
   ],
   "source": [
    "l"
   ]
  },
  {
   "cell_type": "code",
   "execution_count": 184,
   "id": "706efdf7",
   "metadata": {},
   "outputs": [],
   "source": [
    "###  Now difference between actual and predicted"
   ]
  },
  {
   "cell_type": "code",
   "execution_count": 138,
   "id": "c4461d60",
   "metadata": {},
   "outputs": [
    {
     "data": {
      "text/plain": [
       "array([2.72783641])"
      ]
     },
     "execution_count": 138,
     "metadata": {},
     "output_type": "execute_result"
    }
   ],
   "source": [
    "l[0]-Wy[0]"
   ]
  },
  {
   "cell_type": "code",
   "execution_count": 185,
   "id": "5b67a223",
   "metadata": {},
   "outputs": [],
   "source": [
    "####  Store  all the difference of the actual value and  predicted value in a new list"
   ]
  },
  {
   "cell_type": "code",
   "execution_count": 186,
   "id": "3e6b8742",
   "metadata": {},
   "outputs": [],
   "source": [
    "diff=[]\n",
    "for i in range(len(l)):\n",
    "    diff.append(l[i]-Wy[i])"
   ]
  },
  {
   "cell_type": "code",
   "execution_count": 191,
   "id": "271dc944",
   "metadata": {
    "scrolled": true
   },
   "outputs": [],
   "source": [
    "diff=pd.DataFrame(diff)"
   ]
  },
  {
   "cell_type": "code",
   "execution_count": 192,
   "id": "c4466096",
   "metadata": {},
   "outputs": [
    {
     "data": {
      "text/html": [
       "<div>\n",
       "<style scoped>\n",
       "    .dataframe tbody tr th:only-of-type {\n",
       "        vertical-align: middle;\n",
       "    }\n",
       "\n",
       "    .dataframe tbody tr th {\n",
       "        vertical-align: top;\n",
       "    }\n",
       "\n",
       "    .dataframe thead th {\n",
       "        text-align: right;\n",
       "    }\n",
       "</style>\n",
       "<table border=\"1\" class=\"dataframe\">\n",
       "  <thead>\n",
       "    <tr style=\"text-align: right;\">\n",
       "      <th></th>\n",
       "      <th>0</th>\n",
       "    </tr>\n",
       "  </thead>\n",
       "  <tbody>\n",
       "    <tr>\n",
       "      <th>0</th>\n",
       "      <td>2.727836</td>\n",
       "    </tr>\n",
       "    <tr>\n",
       "      <th>1</th>\n",
       "      <td>3.338400</td>\n",
       "    </tr>\n",
       "    <tr>\n",
       "      <th>2</th>\n",
       "      <td>-1.109701</td>\n",
       "    </tr>\n",
       "    <tr>\n",
       "      <th>3</th>\n",
       "      <td>3.274504</td>\n",
       "    </tr>\n",
       "    <tr>\n",
       "      <th>4</th>\n",
       "      <td>-2.777702</td>\n",
       "    </tr>\n",
       "    <tr>\n",
       "      <th>5</th>\n",
       "      <td>1.158402</td>\n",
       "    </tr>\n",
       "    <tr>\n",
       "      <th>6</th>\n",
       "      <td>-2.510214</td>\n",
       "    </tr>\n",
       "    <tr>\n",
       "      <th>7</th>\n",
       "      <td>-2.562419</td>\n",
       "    </tr>\n",
       "    <tr>\n",
       "      <th>8</th>\n",
       "      <td>-0.503754</td>\n",
       "    </tr>\n",
       "    <tr>\n",
       "      <th>9</th>\n",
       "      <td>-3.963546</td>\n",
       "    </tr>\n",
       "    <tr>\n",
       "      <th>10</th>\n",
       "      <td>-1.754109</td>\n",
       "    </tr>\n",
       "    <tr>\n",
       "      <th>11</th>\n",
       "      <td>4.682302</td>\n",
       "    </tr>\n",
       "  </tbody>\n",
       "</table>\n",
       "</div>"
      ],
      "text/plain": [
       "           0\n",
       "0   2.727836\n",
       "1   3.338400\n",
       "2  -1.109701\n",
       "3   3.274504\n",
       "4  -2.777702\n",
       "5   1.158402\n",
       "6  -2.510214\n",
       "7  -2.562419\n",
       "8  -0.503754\n",
       "9  -3.963546\n",
       "10 -1.754109\n",
       "11  4.682302"
      ]
     },
     "execution_count": 192,
     "metadata": {},
     "output_type": "execute_result"
    }
   ],
   "source": [
    "diff"
   ]
  },
  {
   "cell_type": "code",
   "execution_count": 193,
   "id": "75dadb41",
   "metadata": {},
   "outputs": [
    {
     "data": {
      "text/html": [
       "<div>\n",
       "<style scoped>\n",
       "    .dataframe tbody tr th:only-of-type {\n",
       "        vertical-align: middle;\n",
       "    }\n",
       "\n",
       "    .dataframe tbody tr th {\n",
       "        vertical-align: top;\n",
       "    }\n",
       "\n",
       "    .dataframe thead th {\n",
       "        text-align: right;\n",
       "    }\n",
       "</style>\n",
       "<table border=\"1\" class=\"dataframe\">\n",
       "  <thead>\n",
       "    <tr style=\"text-align: right;\">\n",
       "      <th></th>\n",
       "      <th>X1</th>\n",
       "      <th>X2</th>\n",
       "      <th>Y</th>\n",
       "    </tr>\n",
       "  </thead>\n",
       "  <tbody>\n",
       "    <tr>\n",
       "      <th>0</th>\n",
       "      <td>22</td>\n",
       "      <td>15</td>\n",
       "      <td>55</td>\n",
       "    </tr>\n",
       "    <tr>\n",
       "      <th>1</th>\n",
       "      <td>22</td>\n",
       "      <td>14</td>\n",
       "      <td>56</td>\n",
       "    </tr>\n",
       "    <tr>\n",
       "      <th>2</th>\n",
       "      <td>25</td>\n",
       "      <td>18</td>\n",
       "      <td>55</td>\n",
       "    </tr>\n",
       "    <tr>\n",
       "      <th>3</th>\n",
       "      <td>26</td>\n",
       "      <td>13</td>\n",
       "      <td>59</td>\n",
       "    </tr>\n",
       "    <tr>\n",
       "      <th>4</th>\n",
       "      <td>24</td>\n",
       "      <td>12</td>\n",
       "      <td>66</td>\n",
       "    </tr>\n",
       "    <tr>\n",
       "      <th>5</th>\n",
       "      <td>28</td>\n",
       "      <td>11</td>\n",
       "      <td>65</td>\n",
       "    </tr>\n",
       "    <tr>\n",
       "      <th>6</th>\n",
       "      <td>29</td>\n",
       "      <td>11</td>\n",
       "      <td>69</td>\n",
       "    </tr>\n",
       "    <tr>\n",
       "      <th>7</th>\n",
       "      <td>27</td>\n",
       "      <td>10</td>\n",
       "      <td>70</td>\n",
       "    </tr>\n",
       "    <tr>\n",
       "      <th>8</th>\n",
       "      <td>24</td>\n",
       "      <td>5</td>\n",
       "      <td>75</td>\n",
       "    </tr>\n",
       "    <tr>\n",
       "      <th>9</th>\n",
       "      <td>33</td>\n",
       "      <td>9</td>\n",
       "      <td>75</td>\n",
       "    </tr>\n",
       "    <tr>\n",
       "      <th>10</th>\n",
       "      <td>39</td>\n",
       "      <td>7</td>\n",
       "      <td>78</td>\n",
       "    </tr>\n",
       "    <tr>\n",
       "      <th>11</th>\n",
       "      <td>42</td>\n",
       "      <td>3</td>\n",
       "      <td>79</td>\n",
       "    </tr>\n",
       "  </tbody>\n",
       "</table>\n",
       "</div>"
      ],
      "text/plain": [
       "    X1  X2   Y\n",
       "0   22  15  55\n",
       "1   22  14  56\n",
       "2   25  18  55\n",
       "3   26  13  59\n",
       "4   24  12  66\n",
       "5   28  11  65\n",
       "6   29  11  69\n",
       "7   27  10  70\n",
       "8   24   5  75\n",
       "9   33   9  75\n",
       "10  39   7  78\n",
       "11  42   3  79"
      ]
     },
     "execution_count": 193,
     "metadata": {},
     "output_type": "execute_result"
    }
   ],
   "source": [
    "df"
   ]
  },
  {
   "cell_type": "markdown",
   "id": "52dec9df",
   "metadata": {},
   "source": [
    "## Plot the result"
   ]
  },
  {
   "cell_type": "code",
   "execution_count": 197,
   "id": "266136fa",
   "metadata": {},
   "outputs": [],
   "source": [
    "######   Graph for the actual value given and the diffenrce between actual value and the predicted value"
   ]
  },
  {
   "cell_type": "code",
   "execution_count": 195,
   "id": "074d1a21",
   "metadata": {},
   "outputs": [
    {
     "data": {
      "image/png": "[encoded data removed]",
      "text/plain": [
       "<Figure size 432x288 with 1 Axes>"
      ]
     },
     "metadata": {
      "needs_background": "light"
     },
     "output_type": "display_data"
    }
   ],
   "source": [
    "plt.scatter(Y,diff)\n",
    "plt.xlabel(\"Actual Value given\")\n",
    "plt.ylabel(\"Diffenrce value\")\n",
    "plt.show()"
   ]
  },
  {
   "cell_type": "code",
   "execution_count": 198,
   "id": "8c8aa6b1",
   "metadata": {},
   "outputs": [],
   "source": [
    "######   Graph for the actual value given and the predicted value"
   ]
  },
  {
   "cell_type": "code",
   "execution_count": 199,
   "id": "eb2157b5",
   "metadata": {},
   "outputs": [
    {
     "data": {
      "image/png": "[encoded data removed]",
      "text/plain": [
       "<Figure size 432x288 with 1 Axes>"
      ]
     },
     "metadata": {
      "needs_background": "light"
     },
     "output_type": "display_data"
    }
   ],
   "source": [
    "plt.scatter(Y,l)\n",
    "plt.xlabel(\"Actual Value given\")\n",
    "plt.ylabel(\"Predicted value\")\n",
    "plt.show()"
   ]
  },
  {
   "cell_type": "code",
   "execution_count": null,
   "id": "b36d41a1",
   "metadata": {},
   "outputs": [],
   "source": []
  }
 ],
 "metadata": {
  "kernelspec": {
   "display_name": "Python 3 (ipykernel)",
   "language": "python",
   "name": "python3"
  },
  "language_info": {
   "codemirror_mode": {
    "name": "ipython",
    "version": 3
   },
   "file_extension": ".py",
   "mimetype": "text/x-python",
   "name": "python",
   "nbconvert_exporter": "python",
   "pygments_lexer": "ipython3",
   "version": "3.9.7"
  }
 },
 "nbformat": 4,
 "nbformat_minor": 5
}
